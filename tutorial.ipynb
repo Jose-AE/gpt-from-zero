{
 "cells": [
  {
   "cell_type": "code",
   "execution_count": 2,
   "metadata": {},
   "outputs": [
    {
     "name": "stdout",
     "output_type": "stream",
     "text": [
      "Using cuda device\n"
     ]
    }
   ],
   "source": [
    "import torch\n",
    "\n",
    "device = (\n",
    "    \"cuda\" if torch.cuda.is_available() else \"mps\" if torch.backends.mps.is_available() else \"cpu\"\n",
    ")\n",
    "print(f\"Using {device} device\")"
   ]
  },
  {
   "cell_type": "code",
   "execution_count": 16,
   "metadata": {},
   "outputs": [
    {
     "name": "stdout",
     "output_type": "stream",
     "text": [
      "Dataset vocab size: 65\n",
      "Dataset chars: \n",
      " !$&',-.3:;?ABCDEFGHIJKLMNOPQRSTUVWXYZabcdefghijklmnopqrstuvwxyz\n"
     ]
    }
   ],
   "source": [
    "with open(\"input.txt\", encoding=\"utf-8\") as file:\n",
    "    text = file.read()\n",
    "\n",
    "\n",
    "chars = sorted(list(set(text)))\n",
    "vocab_size = len(chars)\n",
    "\n",
    "\n",
    "print(\"Dataset vocab size:\", vocab_size)\n",
    "print(\"Dataset chars:\", \"\".join(chars))"
   ]
  },
  {
   "cell_type": "code",
   "execution_count": 32,
   "metadata": {},
   "outputs": [
    {
     "name": "stdout",
     "output_type": "stream",
     "text": [
      "'hii there' encoded is: [46, 47, 47, 1, 58, 46, 43, 56, 43]\n",
      "'[46, 47, 47, 1, 58, 46, 43, 56, 43]' decoded is: 'hii there'\n"
     ]
    }
   ],
   "source": [
    "# create mapping from char integers\n",
    "str_to_int = {char: i for i, char in enumerate(chars)}\n",
    "int_to_str = {i: char for i, char in enumerate(chars)}\n",
    "\n",
    "# print(str_to_int)\n",
    "# print(int_to_str)\n",
    "\n",
    "\n",
    "def encode(string):\n",
    "    return [str_to_int[char] for char in string]\n",
    "\n",
    "\n",
    "def decode(int_list):\n",
    "    return \"\".join([int_to_str[i] for i in int_list])\n",
    "\n",
    "\n",
    "string = \"hii there\"\n",
    "\n",
    "encoded = encode(string)\n",
    "print(f\"'{string}' encoded is: {encoded}\")\n",
    "print(f\"'{encoded}' decoded is: '{decode(encoded)}'\")"
   ]
  },
  {
   "cell_type": "code",
   "execution_count": 44,
   "metadata": {},
   "outputs": [
    {
     "name": "stdout",
     "output_type": "stream",
     "text": [
      "tensor([18, 47, 56,  ..., 52, 45,  8])\n",
      "Data lenght: 1115393\n",
      "Train data lenght: 1003853\n",
      "Validation data lenght: 111540\n"
     ]
    }
   ],
   "source": [
    "# convert text to pytorch tensor\n",
    "import torch\n",
    "\n",
    "data = torch.tensor(encode(text), dtype=torch.long)\n",
    "print(data)\n",
    "\n",
    "# prepare data\n",
    "n = int(0.9 * len(data))  # use 90% for train\n",
    "train_data = data[:n]\n",
    "val_data = data[n:]\n",
    "\n",
    "print(f\"Data lenght: {len(data)}\")\n",
    "print(f\"Train data lenght: {len(train_data)}\")\n",
    "print(f\"Validation data lenght: {len(val_data)}\")"
   ]
  },
  {
   "cell_type": "code",
   "execution_count": 46,
   "metadata": {},
   "outputs": [
    {
     "name": "stdout",
     "output_type": "stream",
     "text": [
      "when input is tensor([18]) the target: 47\n",
      "when input is tensor([18, 47]) the target: 56\n",
      "when input is tensor([18, 47, 56]) the target: 57\n",
      "when input is tensor([18, 47, 56, 57]) the target: 58\n",
      "when input is tensor([18, 47, 56, 57, 58]) the target: 1\n",
      "when input is tensor([18, 47, 56, 57, 58,  1]) the target: 15\n",
      "when input is tensor([18, 47, 56, 57, 58,  1, 15]) the target: 47\n",
      "when input is tensor([18, 47, 56, 57, 58,  1, 15, 47]) the target: 58\n"
     ]
    }
   ],
   "source": [
    "block_size = 8\n",
    "train_data[: block_size + 1]\n",
    "\n",
    "\n",
    "x = train_data[:block_size]\n",
    "y = train_data[1 : block_size + 1]\n",
    "for t in range(block_size):\n",
    "    context = x[: t + 1]\n",
    "    target = y[t]\n",
    "    print(f\"when input is {context} the target: {target}\")"
   ]
  },
  {
   "cell_type": "code",
   "execution_count": 58,
   "metadata": {},
   "outputs": [
    {
     "name": "stdout",
     "output_type": "stream",
     "text": [
      "Inputs:\n",
      "tensor([[ 1, 45, 56, 43, 39, 58,  1, 39],\n",
      "        [56, 43, 56,  6,  1, 39, 40, 53],\n",
      "        [ 1, 58, 46, 43,  1, 41, 56, 53],\n",
      "        [52,  0, 32, 46, 39, 58,  1, 56]])\n",
      "Targets:\n",
      "tensor([[45, 56, 43, 39, 58,  1, 39, 50],\n",
      "        [43, 56,  6,  1, 39, 40, 53, 59],\n",
      "        [58, 46, 43,  1, 41, 56, 53, 61],\n",
      "        [ 0, 32, 46, 39, 58,  1, 56, 53]])\n",
      " ---- \n",
      "When context is [1], the target token: 45\n",
      "When context is [1, 45], the target token: 56\n",
      "When context is [1, 45, 56], the target token: 43\n",
      "When context is [1, 45, 56, 43], the target token: 39\n",
      "When context is [1, 45, 56, 43, 39], the target token: 58\n",
      "When context is [1, 45, 56, 43, 39, 58], the target token: 1\n",
      "When context is [1, 45, 56, 43, 39, 58, 1], the target token: 39\n",
      "When context is [1, 45, 56, 43, 39, 58, 1, 39], the target token: 50\n",
      "When context is [56], the target token: 43\n",
      "When context is [56, 43], the target token: 56\n",
      "When context is [56, 43, 56], the target token: 6\n",
      "When context is [56, 43, 56, 6], the target token: 1\n",
      "When context is [56, 43, 56, 6, 1], the target token: 39\n",
      "When context is [56, 43, 56, 6, 1, 39], the target token: 40\n",
      "When context is [56, 43, 56, 6, 1, 39, 40], the target token: 53\n",
      "When context is [56, 43, 56, 6, 1, 39, 40, 53], the target token: 59\n",
      "When context is [1], the target token: 58\n",
      "When context is [1, 58], the target token: 46\n",
      "When context is [1, 58, 46], the target token: 43\n",
      "When context is [1, 58, 46, 43], the target token: 1\n",
      "When context is [1, 58, 46, 43, 1], the target token: 41\n",
      "When context is [1, 58, 46, 43, 1, 41], the target token: 56\n",
      "When context is [1, 58, 46, 43, 1, 41, 56], the target token: 53\n",
      "When context is [1, 58, 46, 43, 1, 41, 56, 53], the target token: 61\n",
      "When context is [52], the target token: 0\n",
      "When context is [52, 0], the target token: 32\n",
      "When context is [52, 0, 32], the target token: 46\n",
      "When context is [52, 0, 32, 46], the target token: 39\n",
      "When context is [52, 0, 32, 46, 39], the target token: 58\n",
      "When context is [52, 0, 32, 46, 39, 58], the target token: 1\n",
      "When context is [52, 0, 32, 46, 39, 58, 1], the target token: 56\n",
      "When context is [52, 0, 32, 46, 39, 58, 1, 56], the target token: 53\n"
     ]
    }
   ],
   "source": [
    "batch_size = 4\n",
    "sequence_length = 8\n",
    "\n",
    "\n",
    "def get_batch(split):\n",
    "    # generate a small batch of data of inputs (sequences) and targets\n",
    "    dataset = train_data if split == \"train\" else val_data  # select appropriate dataset\n",
    "\n",
    "    # generate random starting indices for sequences\n",
    "    start_indices = torch.randint(\n",
    "        len(dataset) - sequence_length, tuple([batch_size])\n",
    "    )  # out ->   [100,5,45,6...] this represents: the first batch starts at index 100, then second batch starts at index 5\n",
    "\n",
    "    input_sequences = torch.stack(\n",
    "        [dataset[start_idx : start_idx + sequence_length] for start_idx in start_indices]\n",
    "    )\n",
    "    target_sequences = torch.stack(\n",
    "        [dataset[start_idx + 1 : start_idx + sequence_length + 1] for start_idx in start_indices]\n",
    "    )\n",
    "\n",
    "    return input_sequences, target_sequences\n",
    "\n",
    "\n",
    "inputs_batch, targets_batch = get_batch(\"train\")\n",
    "print(\"Inputs:\")\n",
    "print(inputs_batch)\n",
    "print(\"Targets:\")\n",
    "print(targets_batch)\n",
    "\n",
    "print(\" ---- \")\n",
    "\n",
    "for batch_idx in range(batch_size):  # iterate over batch dimension\n",
    "    for time_step in range(sequence_length):  # iterate over time dimension\n",
    "        current_context = inputs_batch[batch_idx, : time_step + 1]\n",
    "        target_token = targets_batch[batch_idx, time_step]\n",
    "        print(f\"When context is {current_context.tolist()}, the target token: {target_token}\")"
   ]
  },
  {
   "cell_type": "code",
   "execution_count": null,
   "metadata": {},
   "outputs": [],
   "source": []
  }
 ],
 "metadata": {
  "kernelspec": {
   "display_name": "py_modules",
   "language": "python",
   "name": "python3"
  },
  "language_info": {
   "codemirror_mode": {
    "name": "ipython",
    "version": 3
   },
   "file_extension": ".py",
   "mimetype": "text/x-python",
   "name": "python",
   "nbconvert_exporter": "python",
   "pygments_lexer": "ipython3",
   "version": "3.11.9"
  }
 },
 "nbformat": 4,
 "nbformat_minor": 2
}
